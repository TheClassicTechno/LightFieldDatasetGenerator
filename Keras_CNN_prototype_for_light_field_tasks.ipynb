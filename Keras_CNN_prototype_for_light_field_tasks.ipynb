{
  "nbformat": 4,
  "nbformat_minor": 0,
  "metadata": {
    "colab": {
      "provenance": [],
      "authorship_tag": "ABX9TyPT/SoSLcJCV9TaNZHSt95J",
      "include_colab_link": true
    },
    "kernelspec": {
      "name": "python3",
      "display_name": "Python 3"
    },
    "language_info": {
      "name": "python"
    }
  },
  "cells": [
    {
      "cell_type": "markdown",
      "metadata": {
        "id": "view-in-github",
        "colab_type": "text"
      },
      "source": [
        "<a href=\"https://colab.research.google.com/github/TheClassicTechno/LightFieldDatasetGenerator/blob/main/Keras_CNN_prototype_for_light_field_tasks.ipynb\" target=\"_parent\"><img src=\"https://colab.research.google.com/assets/colab-badge.svg\" alt=\"Open In Colab\"/></a>"
      ]
    },
    {
      "cell_type": "markdown",
      "source": [
        "#CNN prototype code for light field tasks\n",
        "\n",
        "See data loading, preprocessing, and splitting code in our Kaggle notebook: https://www.kaggle.com/code/julesh7/light-field-data-processing-w-pytorch\n"
      ],
      "metadata": {
        "id": "LLF9rLNvz8sA"
      }
    },
    {
      "cell_type": "code",
      "source": [
        "from tensorflow import keras\n",
        "from tensorflow.keras import layers\n",
        "from tensorflow.keras.models import Sequential\n",
        "import pandas as pd\n",
        "import numpy as np\n",
        "import tensorflow as tf\n",
        "import os\n",
        "import matplotlib.pyplot as plt\n",
        "import pathlib\n",
        "import cv2\n",
        "import glob"
      ],
      "metadata": {
        "id": "vyS-tE9X02Rc"
      },
      "execution_count": null,
      "outputs": []
    },
    {
      "cell_type": "code",
      "execution_count": null,
      "metadata": {
        "id": "1fLoHZkJz4Lm"
      },
      "outputs": [],
      "source": [
        "model = Sequential( \n",
        "    [\n",
        "      layers.Conv2D(32, (3,3), padding='same', activation=\"relu\",input_shape=(2000, 1000, 3)),\n",
        "    layers.MaxPooling2D((2, 2), strides=2),\n",
        "\n",
        "    layers.Conv2D(64, (3,3), padding='same', activation=\"relu\"),\n",
        "    layers.MaxPooling2D((2, 2), strides=2),\n",
        "\n",
        "    layers.Flatten(),\n",
        "    layers.Dense(100, activation=\"relu\"),\n",
        "    layers.BatchNormalization(),\n",
        "    layers.Dense(2, activation=\"sigmoid\")\n",
        "])\n",
        "model.summary()"
      ]
    },
    {
      "cell_type": "code",
      "source": [
        "model.compile(optimizer = 'adam', loss = tf.keras.losses.SparseCategoricalCrossentropy(from_logits = True), metrics = ['accuracy'])\n",
        "\n",
        "model.fit (\n",
        "    train_dataset, \n",
        "    validation_data = val_dataset,\n",
        "    epochs = 70\n",
        ")\n",
        "model.save('model.h5')"
      ],
      "metadata": {
        "id": "3Igy9ajq06rt"
      },
      "execution_count": null,
      "outputs": []
    }
  ]
}