{
  "nbformat": 4,
  "nbformat_minor": 0,
  "metadata": {
    "colab": {
      "provenance": [],
      "authorship_tag": "ABX9TyO5vYym85oG2PdopGF3Mn3J",
      "include_colab_link": true
    },
    "kernelspec": {
      "name": "python3",
      "display_name": "Python 3"
    },
    "language_info": {
      "name": "python"
    }
  },
  "cells": [
    {
      "cell_type": "markdown",
      "metadata": {
        "id": "view-in-github",
        "colab_type": "text"
      },
      "source": [
        "<a href=\"https://colab.research.google.com/github/TheClassicTechno/LightFieldDatasetGenerator/blob/main/CNN_prototype_for_light_field_tasks.ipynb\" target=\"_parent\"><img src=\"https://colab.research.google.com/assets/colab-badge.svg\" alt=\"Open In Colab\"/></a>"
      ]
    },
    {
      "cell_type": "markdown",
      "source": [
        "#CNN prototype code for light field tasks\n",
        "\n",
        "See data loading, preprocessing, and splitting code in our Kaggle notebook: https://www.kaggle.com/code/julesh7/light-field-data-processing-w-pytorch\n"
      ],
      "metadata": {
        "id": "LLF9rLNvz8sA"
      }
    },
    {
      "cell_type": "code",
      "execution_count": null,
      "metadata": {
        "id": "1fLoHZkJz4Lm"
      },
      "outputs": [],
      "source": [
        "model = Sequential(  # best MODEL SO FAR- 75% ACC\n",
        "    [\n",
        "      layers.Conv2D(32, (3,3), padding='same', activation=\"relu\",input_shape=(227, 227, 3)),\n",
        "    layers.MaxPooling2D((2, 2), strides=2),\n",
        "\n",
        "    layers.Conv2D(64, (3,3), padding='same', activation=\"relu\"),\n",
        "    layers.MaxPooling2D((2, 2), strides=2),\n",
        "\n",
        "    layers.Flatten(),\n",
        "    layers.Dense(100, activation=\"relu\"),\n",
        "    layers.BatchNormalization(),\n",
        "    layers.Dense(2, activation=\"sigmoid\")\n",
        "])\n",
        "model.summary()"
      ]
    }
  ]
}